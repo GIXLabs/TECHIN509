{
 "cells": [
  {
   "cell_type": "markdown",
   "id": "8973a12e",
   "metadata": {},
   "source": [
    "# Week4 home work FloodFill"
   ]
  },
  {
   "cell_type": "code",
   "execution_count": 1,
   "id": "288edfaf",
   "metadata": {},
   "outputs": [],
   "source": [
    "'''This function is to split the board list to list of lists, get the outer area , boundary and inner ara coordinates'''\n",
    "def preprocessing(board):\n",
    "    b=[]\n",
    "    for i in board:\n",
    "        b.append([j for j in i])\n",
    "\n",
    "    print(\"Shape of the board is ({},{})\".format(len(board),len(b[0])))\n",
    "    #Storing positions or cordinates in the board to a list all positions and row wise list of lists positions\n",
    "    positions=[]\n",
    "    all_positions=[]\n",
    "    for x in range(8):\n",
    "        a=[]\n",
    "        for y in range(22):\n",
    "            a.append([x, y])\n",
    "            all_positions.append([x,y])\n",
    "        positions.append(a)  \n",
    "    #for wall region\n",
    "    innerregion_coordinates=[]#this list will have all the cordinates of boudary and area bounded by it\n",
    "    for row in range(len(b)):\n",
    "        boundary_edge1= 0\n",
    "        boundary_edge2=0\n",
    "\n",
    "        #print(\"For row\",row)\n",
    "        le=len(b[row])\n",
    "        l=[]\n",
    "        for col in range(len(b[row])):\n",
    "            #print(b[row][col])\n",
    "            if b[row][col]=='#':\n",
    "                boundary_edge1=[row,col]\n",
    "                #print(\"cordinates of Edge1 is\",boundary_edge1)\n",
    "\n",
    "                break\n",
    "\n",
    "        for col in range(len(b[row])-1,-1,-1):\n",
    "            #print(b[row][col])\n",
    "            if b[row][col]=='#':\n",
    "                boundary_edge2=[row,col]\n",
    "                #print(\"cordinates of Edge2 is\",boundary_edge2)\n",
    "                break\n",
    "        if type(boundary_edge1)==int and type(boundary_edge2)==int:#no hashes or wall region\n",
    "            pass\n",
    "        elif boundary_edge1==boundary_edge2:#only one hash is present , only one boundary cordinate is present\n",
    "            innerregion_coordinates.append(boundary_edge1)\n",
    "        else:#two boundary edges\n",
    "            while boundary_edge1[1]<=boundary_edge2[1]:\n",
    "                innerregion_coordinates.append(boundary_edge1)\n",
    "                l.append(boundary_edge1)\n",
    "                boundary_edge1=[boundary_edge1[0],boundary_edge1[1]+1]\n",
    "            #print(\"Cordinates beloging to the boundary and inner_region\")\n",
    "            #print(l)\n",
    "        #print(\"___________________________________________\")\n",
    "    \n",
    "    #For Outer region\n",
    "    outerRegion_coordinates=[]\n",
    "    for cord in all_positions:\n",
    "        if cord in innerregion_coordinates:\n",
    "\n",
    "            pass\n",
    "        else:\n",
    "            outerRegion_coordinates.append(cord)\n",
    "    return innerregion_coordinates,outerRegion_coordinates,b"
   ]
  },
  {
   "cell_type": "code",
   "execution_count": 2,
   "id": "06fc72d9",
   "metadata": {},
   "outputs": [],
   "source": [
    "def flood_fill(input_board, old, new, x, y):\n",
    "\n",
    "    # Calling the preprocessing to get inner and outer cordinates and split board 'b'\n",
    "    innerregion_coordinates,outerRegion_coordinates,b=preprocessing(input_board)\n",
    "    #findout x,y are in inner regio or outer region\n",
    "    \n",
    "    if [x,y] in innerregion_coordinates:\n",
    "                if b[x][y]==old:\n",
    "                    for i in innerregion_coordinates:\n",
    "                        #print(i)\n",
    "                        if b[i[0]][i[1]]==old:\n",
    "                            b[i[0]][i[1]]=new\n",
    "                        else:\n",
    "                            pass\n",
    "                else:\n",
    "\n",
    "                    if b[x][y]=='#':\n",
    "                        print(\"!! The choosen old pattern is '.' and cordinates you given are in the # area.\")\n",
    "                    if b[x][y]=='.':\n",
    "                        print(\"!! The choosen old pattern is '#' and cordinates you given are in the '.' area.\")\n",
    "    if [x,y] in outerRegion_coordinates:\n",
    "        for i in outerRegion_coordinates:\n",
    "                        #print(i)\n",
    "                        if b[i[0]][i[1]]==old:\n",
    "                            b[i[0]][i[1]]=new\n",
    "                        else:\n",
    "                            pass\n",
    "        \n",
    "\n",
    "\n",
    "    #This is a comment by Alabhya\n",
    "    mboard=[]\n",
    "    for t in b:\n",
    "        str1 = ''.join(t)\n",
    "        mboard.append(str1)\n",
    "     \n",
    "        \n",
    "    return mboard\n",
    "    \n",
    "\n"
   ]
  },
  {
   "cell_type": "code",
   "execution_count": 3,
   "id": "b897f515",
   "metadata": {},
   "outputs": [
    {
     "data": {
      "text/plain": [
       "['......................',\n",
       " '......##########......',\n",
       " '......#........#......',\n",
       " '......#........#......',\n",
       " '......#........#####..',\n",
       " '....###............#..',\n",
       " '....#............###..',\n",
       " '....##############....']"
      ]
     },
     "execution_count": 3,
     "metadata": {},
     "output_type": "execute_result"
    }
   ],
   "source": [
    "board = [\n",
    "    \"......................\",\n",
    "    \"......##########......\",\n",
    "    \"......#........#......\",\n",
    "    \"......#........#......\",\n",
    "    \"......#........#####..\",\n",
    "    \"....###............#..\",\n",
    "    \"....#............###..\",\n",
    "    \"....##############....\",\n",
    "]\n",
    "\n",
    "board"
   ]
  },
  {
   "cell_type": "code",
   "execution_count": 4,
   "id": "7929557f",
   "metadata": {},
   "outputs": [
    {
     "name": "stdout",
     "output_type": "stream",
     "text": [
      "Shape of the board is (8,22)\n",
      "Modified board :\n",
      "......................\n",
      "......##########......\n",
      "......#~~~~~~~~#......\n",
      "......#~~~~~~~~#......\n",
      "......#~~~~~~~~#####..\n",
      "....###~~~~~~~~~~~~#..\n",
      "....#~~~~~~~~~~~~###..\n",
      "....##############....\n"
     ]
    }
   ],
   "source": [
    "\n",
    "modified_board = flood_fill(input_board=board, old=\".\", new=\"~\", x=5, y=12)\n",
    "print(\"Modified board :\")\n",
    "for a in modified_board:\n",
    "    print(a)\n",
    "\n"
   ]
  },
  {
   "cell_type": "code",
   "execution_count": 5,
   "id": "bd3bc1e2",
   "metadata": {},
   "outputs": [
    {
     "name": "stdout",
     "output_type": "stream",
     "text": [
      "Shape of the board is (8,22)\n",
      "Modified board :\n",
      "~~~~~~~~~~~~~~~~~~~~~~\n",
      "~~~~~~##########~~~~~~\n",
      "~~~~~~#........#~~~~~~\n",
      "~~~~~~#........#~~~~~~\n",
      "~~~~~~#........#####~~\n",
      "~~~~###............#~~\n",
      "~~~~#............###~~\n",
      "~~~~##############~~~~\n"
     ]
    }
   ],
   "source": [
    "modified_board = flood_fill(input_board=board, old=\".\", new=\"~\", x=1, y=1)\n",
    "print(\"Modified board :\")\n",
    "for a in modified_board:\n",
    "    print(a)"
   ]
  },
  {
   "cell_type": "code",
   "execution_count": 6,
   "id": "125a6cf6",
   "metadata": {},
   "outputs": [
    {
     "name": "stdout",
     "output_type": "stream",
     "text": [
      "Shape of the board is (8,22)\n",
      "Modified board :\n",
      "......................\n",
      "......~~~~~~~~~~......\n",
      "......~........~......\n",
      "......~........~......\n",
      "......~........~~~~~..\n",
      "....~~~............~..\n",
      "....~............~~~..\n",
      "....~~~~~~~~~~~~~~....\n"
     ]
    }
   ],
   "source": [
    "modified_board = flood_fill(input_board=board, old=\"#\", new=\"~\", x=1, y=6)\n",
    "print(\"Modified board :\")\n",
    "for a in modified_board:\n",
    "    print(a)"
   ]
  },
  {
   "cell_type": "code",
   "execution_count": 7,
   "id": "cac7bc6d",
   "metadata": {},
   "outputs": [
    {
     "name": "stdout",
     "output_type": "stream",
     "text": [
      "Shape of the board is (8,22)\n",
      "!! The choosen old pattern is '.' and cordinates you given are in the # area.\n",
      "Modified board :\n",
      "......................\n",
      "......##########......\n",
      "......#........#......\n",
      "......#........#......\n",
      "......#........#####..\n",
      "....###............#..\n",
      "....#............###..\n",
      "....##############....\n"
     ]
    }
   ],
   "source": [
    "modified_board = flood_fill(input_board=board, old=\".\", new=\"~\", x=1, y=6)\n",
    "print(\"Modified board :\")\n",
    "for a in modified_board:\n",
    "    print(a)"
   ]
  },
  {
   "cell_type": "code",
   "execution_count": 8,
   "id": "812cca0e",
   "metadata": {},
   "outputs": [
    {
     "name": "stdout",
     "output_type": "stream",
     "text": [
      "Shape of the board is (8,22)\n",
      "!! The choosen old pattern is '#' and cordinates you given are in the '.' area.\n",
      "Modified board :\n",
      "......................\n",
      "......##########......\n",
      "......#........#......\n",
      "......#........#......\n",
      "......#........#####..\n",
      "....###............#..\n",
      "....#............###..\n",
      "....##############....\n"
     ]
    }
   ],
   "source": [
    "modified_board = flood_fill(input_board=board, old=\"#\", new=\"~\", x=5, y=12)\n",
    "print(\"Modified board :\")\n",
    "for a in modified_board:\n",
    "    print(a)"
   ]
  }
 ],
 "metadata": {
  "kernelspec": {
   "display_name": "Python 3 (ipykernel)",
   "language": "python",
   "name": "python3"
  },
  "language_info": {
   "codemirror_mode": {
    "name": "ipython",
    "version": 3
   },
   "file_extension": ".py",
   "mimetype": "text/x-python",
   "name": "python",
   "nbconvert_exporter": "python",
   "pygments_lexer": "ipython3",
   "version": "3.10.4"
  },
  "vscode": {
   "interpreter": {
    "hash": "ad0aab809bf53cd82d3896d99a8fa291c1a2b1575f327cae561b37266928d886"
   }
  }
 },
 "nbformat": 4,
 "nbformat_minor": 5
}
